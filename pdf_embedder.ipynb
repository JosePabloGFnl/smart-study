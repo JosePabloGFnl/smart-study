{
 "cells": [
  {
   "cell_type": "code",
   "execution_count": 19,
   "metadata": {},
   "outputs": [],
   "source": [
    "import os\n",
    "\n",
    "from langchain.document_loaders import PyPDFLoader\n",
    "from langchain.vectorstores import FAISS\n",
    "from langchain.embeddings.openai import OpenAIEmbeddings\n",
    "from langchain.prompts import PromptTemplate\n",
    "from langchain.chat_models import ChatOpenAI\n",
    "from langchain.chains import LLMChain\n",
    "from dotenv import load_dotenv\n",
    "import pandas as pd\n",
    "from switch import prompt_templates"
   ]
  },
  {
   "cell_type": "code",
   "execution_count": 20,
   "metadata": {},
   "outputs": [
    {
     "data": {
      "text/plain": [
       "True"
      ]
     },
     "execution_count": 20,
     "metadata": {},
     "output_type": "execute_result"
    }
   ],
   "source": [
    "load_dotenv()"
   ]
  },
  {
   "cell_type": "code",
   "execution_count": 21,
   "metadata": {},
   "outputs": [],
   "source": [
    "all_pages = []\n",
    "\n",
    "DIRPATH = \"./data/pdfs/\"\n",
    "\n",
    "for filename in os.listdir(DIRPATH):\n",
    "    filepath = os.path.join(DIRPATH, filename)\n",
    "    loader = PyPDFLoader(filepath)\n",
    "    pages = loader.load_and_split()\n",
    "    all_pages.extend(pages)"
   ]
  },
  {
   "cell_type": "code",
   "execution_count": 22,
   "metadata": {},
   "outputs": [],
   "source": [
    "embeddings = OpenAIEmbeddings()\n",
    "vectors = FAISS.from_documents(all_pages, embeddings)"
   ]
  },
  {
   "cell_type": "code",
   "execution_count": 23,
   "metadata": {},
   "outputs": [],
   "source": [
    "def search_similar(query: str):\n",
    "    similars = vectors.similarity_search(query, k=3)\n",
    "    \n",
    "    return [s.page_content for s in similars]"
   ]
  },
  {
   "cell_type": "code",
   "execution_count": 24,
   "metadata": {},
   "outputs": [],
   "source": [
    "model = ChatOpenAI(temperature=0, model=\"gpt-3.5-turbo-16k\")\n",
    "\n",
    "prompt = PromptTemplate(\n",
    "    input_variables=[\"contents\", \"query\"],\n",
    "    template=str(prompt_templates(\"Default\"))+            \n",
    "        \"{contents} {query}\"\n",
    ")\n",
    "\n",
    "chain = LLMChain(llm=model, prompt=prompt)"
   ]
  },
  {
   "cell_type": "code",
   "execution_count": 25,
   "metadata": {},
   "outputs": [],
   "source": [
    "def reply(query: str):\n",
    "    similars = search_similar(query)\n",
    "    response = chain.run(contents=similars, query=query)\n",
    "\n",
    "    return response"
   ]
  },
  {
   "cell_type": "code",
   "execution_count": 26,
   "metadata": {},
   "outputs": [
    {
     "data": {
      "text/plain": [
       "'Based on the given information, it seems that the papers are discussing the Prize Collecting Traveling Salesman Problem (PCTSP) and proposing different approaches to solve it. The first paper focuses on mathematical formulations and compares the performance of different exact approaches. The second paper discusses heuristics and compares their performance with a baseline heuristic. Both papers provide results and conclusions based on their experiments. Without further context or specific criteria, it is difficult to form a definitive opinion on the papers.'"
      ]
     },
     "execution_count": 26,
     "metadata": {},
     "output_type": "execute_result"
    }
   ],
   "source": [
    "reply(\"What do you think of these papers?\")"
   ]
  },
  {
   "cell_type": "code",
   "execution_count": 27,
   "metadata": {},
   "outputs": [
    {
     "data": {
      "text/plain": [
       "'1. Title: \"A Branch-and-Cut Algorithm for the Prize-Collecting Traveling Salesman Problem\"\\n   Content: This paper presents a branch-and-cut algorithm for solving the Prize-Collecting Traveling Salesman Problem (PCTSP). It describes the mathematical formulation and proposes two new MIP-based heuristics. The paper also provides numerical results to evaluate the proposed approaches.\\n   Relevance: This paper is highly relevant as it directly addresses the PCTSP and proposes new algorithms for solving it.\\n\\n2. Title: \"A Lagrangian Heuristic for the Prize-Collecting Traveling Salesman Problem\"\\n   Content: This paper presents a Lagrangian heuristic for obtaining an upper bound for the Prize-Collecting Traveling Salesman Problem (PCTSP). It describes the relaxation of the minimum prize constraint and the application of the sub-gradient method. The paper also discusses the similarities between the PCTSP and the Quota TSP.\\n   Relevance: This paper is relevant as it provides a heuristic approach for solving the PCTSP and discusses its relationship with another related problem.\\n\\n3. Title: \"GRASP Heuristics for the Orienteering Problem and the Prize-Collecting Traveling Salesman Problem\"\\n   Content: This paper proposes GRASP heuristics for solving the Orienteering Problem (OP) and the Prize-Collecting Traveling Salesman Problem (PCTSP). It also presents a new formulation for the PCTSP based on flow constraints for sub-cycle elimination. The paper discusses the similarities between the OP and the PCTSP.\\n   Relevance: This paper is relevant as it proposes heuristics for solving the PCTSP and discusses the relationship between the PCTSP and the OP.\\n\\n4. Title: \"Tabu Search for the Prize-Collecting Traveling Salesman Problem\"\\n   Content: This paper presents a Tabu Search (TS) algorithm for solving the Prize-Collecting Traveling Salesman Problem (PCTSP). It incorporates the GENIUS heuristic in the construction phase and uses a 2-opt local search. The paper discusses the successful application of the TS method and the GENIUS procedure in solving other TSP and vehicle routing problem variants.\\n   Relevance: This paper is relevant as it proposes a TS algorithm for solving the PCTSP and discusses the application of TS and GENIUS in solving related problems.\\n\\n5. Title: \"A New Mathematical Formulation and Heuristics for the Prize-Collecting Traveling Salesman Problem\"\\n   Content: This paper proposes a new mathematical formulation for the Prize-Collecting Traveling Salesman Problem (PCTSP) by combining existing models. It also presents two heuristics based on clustering search to solve the PCTSP. The paper compares the performance of the proposed heuristics with existing approaches.\\n   Relevance: This paper is relevant as it proposes a new mathematical formulation and heuristics for solving the PCTSP and compares their performance with existing approaches.'"
      ]
     },
     "execution_count": 27,
     "metadata": {},
     "output_type": "execute_result"
    }
   ],
   "source": [
    "recom_prompt = prompt_templates(\"Ranking\")\n",
    "reply(recom_prompt)"
   ]
  }
 ],
 "metadata": {
  "kernelspec": {
   "display_name": "venv",
   "language": "python",
   "name": "python3"
  },
  "language_info": {
   "codemirror_mode": {
    "name": "ipython",
    "version": 3
   },
   "file_extension": ".py",
   "mimetype": "text/x-python",
   "name": "python",
   "nbconvert_exporter": "python",
   "pygments_lexer": "ipython3",
   "version": "3.11.5"
  },
  "orig_nbformat": 4
 },
 "nbformat": 4,
 "nbformat_minor": 2
}
