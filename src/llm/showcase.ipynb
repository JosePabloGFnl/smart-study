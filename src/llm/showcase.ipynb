{
 "cells": [
  {
   "cell_type": "code",
   "execution_count": 1,
   "metadata": {},
   "outputs": [],
   "source": [
    "from llm import reply"
   ]
  },
  {
   "cell_type": "markdown",
   "metadata": {},
   "source": [
    "In this example we ask a very specific question related to 2 papers on Operations Research that were feeded to GPT."
   ]
  },
  {
   "cell_type": "code",
   "execution_count": 3,
   "metadata": {},
   "outputs": [],
   "source": [
    "question = \"\"\"\n",
    "    How many values did Sánchez-Oro and authors use\n",
    "    in the experiment to measure and compare the beta parameter of GRASP?\n",
    "    And did they explain why that range of values?\n",
    "    \"\"\"\n",
    "\n",
    "answer = reply(question)"
   ]
  },
  {
   "cell_type": "code",
   "execution_count": 6,
   "metadata": {},
   "outputs": [
    {
     "name": "stdout",
     "output_type": "stream",
     "text": [
      "According to the paper, Sánchez-Oro and authors used six values in the experiment to measure and compare the beta parameter of GRASP. These values were β = {0.00, 0.25, 0.50, 0.75, 1.00, RND}, where RND indicates that the value is selected at random in each construction. The authors included values 0.00 and 1.00 to see how a completely greedy and random construction, respectively, influenced the quality of the results. The experiment aimed to evaluate the best value for the beta parameter and determine its impact on the number of best solutions found and the deviation from the best solution. The results showed that the best value for the beta parameter in terms of the number of best solutions found was β = 0.00, while in deviation it was the third best option, after β = 0.25 and β = RND. The authors explained that β = 0.00 resulted in a completely greedy algorithm and, for a construction without improvement, it was the option focused on intensification. They concluded that it is not recommendable to consider large beta values since they introduce too much randomness in the search.\n"
     ]
    }
   ],
   "source": [
    "print(answer)"
   ]
  },
  {
   "cell_type": "markdown",
   "metadata": {},
   "source": [
    "Most of the times (hopefully), the model will tell you when your question *seems* to be unrelated to the papers you provided:"
   ]
  },
  {
   "cell_type": "code",
   "execution_count": 7,
   "metadata": {},
   "outputs": [
    {
     "name": "stdout",
     "output_type": "stream",
     "text": [
      "I apologize, but the information provided does not contain any relevant content related to the discovery of black holes.\n"
     ]
    }
   ],
   "source": [
    "answer = reply(\"How was the black hole discovered?\")\n",
    "print(answer)"
   ]
  }
 ],
 "metadata": {
  "kernelspec": {
   "display_name": "venv",
   "language": "python",
   "name": "python3"
  },
  "language_info": {
   "codemirror_mode": {
    "name": "ipython",
    "version": 3
   },
   "file_extension": ".py",
   "mimetype": "text/x-python",
   "name": "python",
   "nbconvert_exporter": "python",
   "pygments_lexer": "ipython3",
   "version": "3.11.2"
  },
  "orig_nbformat": 4
 },
 "nbformat": 4,
 "nbformat_minor": 2
}
